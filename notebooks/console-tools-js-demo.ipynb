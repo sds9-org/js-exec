{
 "cells": [
  {
   "cell_type": "markdown",
   "metadata": {},
   "source": [
    "# Console Tools JS Demo\n",
    "\n",
    "This notebook demonstrates the usage of the `formatText` function from the `console-tools-js` package with various styles."
   ]
  },
  {
   "cell_type": "code",
   "execution_count": null,
   "metadata": {},
   "outputs": [],
   "source": [
    "import { formatText, FontColor, BackgroundColor } from 'console-tools-js';"
   ]
  },
  {
   "cell_type": "markdown",
   "metadata": {},
   "source": [
    "## Bold Text\n",
    "\n",
    "The following example shows how to format text in bold."
   ]
  },
  {
   "cell_type": "code",
   "execution_count": null,
   "metadata": {},
   "outputs": [],
   "source": [
    "const boldText = formatText('This is bold text', { bold: true });\n",
    "console.log(boldText);"
   ]
  },
  {
   "cell_type": "markdown",
   "metadata": {},
   "source": [
    "## Italic Text\n",
    "\n",
    "The following example shows how to format text in italic."
   ]
  },
  {
   "cell_type": "code",
   "execution_count": null,
   "metadata": {},
   "outputs": [],
   "source": [
    "const italicText = formatText('This is italic text', { italic: true });\n",
    "console.log(italicText);"
   ]
  },
  {
   "cell_type": "markdown",
   "metadata": {},
   "source": [
    "## Underline Text\n",
    "\n",
    "The following example shows how to format text with an underline."
   ]
  },
  {
   "cell_type": "code",
   "execution_count": null,
   "metadata": {},
   "outputs": [],
   "source": [
    "const underlineText = formatText('This is underlined text', { underline: true });\n",
    "console.log(underlineText);"
   ]
  },
  {
   "cell_type": "markdown",
   "metadata": {},
   "source": [
    "## Font Color\n",
    "\n",
    "The following example shows how to format text with a specific font color."
   ]
  },
  {
   "cell_type": "code",
   "execution_count": null,
   "metadata": {},
   "outputs": [],
   "source": [
    "const redText = formatText('This is red text', { fontColor: FontColor.RED });\n",
    "console.log(redText);"
   ]
  },
  {
   "cell_type": "markdown",
   "metadata": {},
   "source": [
    "## Background Color\n",
    "\n",
    "The following example shows how to format text with a specific background color."
   ]
  },
  {
   "cell_type": "code",
   "execution_count": null,
   "metadata": {},
   "outputs": [],
   "source": [
    "const highlightedText = formatText('This is highlighted text', { backgroundColor: BackgroundColor.YELLOW });\n",
    "console.log(highlightedText);"
   ]
  }
 ],
 "metadata": {
  "kernelspec": {
   "display_name": "JavaScript",
   "language": "javascript",
   "name": "javascript"
  },
  "language_info": {
   "name": "javascript"
  }
 },
 "nbformat": 4,
 "nbformat_minor": 5
}
